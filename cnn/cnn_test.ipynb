{
 "cells": [
  {
   "cell_type": "code",
   "execution_count": 1,
   "metadata": {
    "ExecuteTime": {
     "end_time": "2024-04-18T18:13:27.756152Z",
     "start_time": "2024-04-18T18:13:27.738970Z"
    },
    "pycharm": {}
   },
   "outputs": [
    {
     "name": "stderr",
     "output_type": "stream",
     "text": [
      "C:\\Users\\zodes\\AppData\\Local\\Temp\\ipykernel_5812\\1208615476.py:1: DeprecationWarning: Importing display from IPython.core.display is deprecated since IPython 7.14, please import from IPython display\n",
      "  from IPython.core.display import display, HTML\n"
     ]
    },
    {
     "data": {
      "text/html": [
       "<style>.container { width:80% !important; }</style>"
      ],
      "text/plain": [
       "<IPython.core.display.HTML object>"
      ]
     },
     "metadata": {},
     "output_type": "display_data"
    },
    {
     "data": {
      "text/plain": [
       "<module 'cnn_utils' from 'c:\\\\Users\\\\zodes\\\\Documents\\\\Academics\\\\UChicago MPCS\\\\Machine Learning\\\\coding-ml-algos\\\\cnn\\\\cnn_utils.py'>"
      ]
     },
     "execution_count": 1,
     "metadata": {},
     "output_type": "execute_result"
    }
   ],
   "source": [
    "from IPython.core.display import display, HTML\n",
    "display(HTML(\"<style>.container { width:80% !important; }</style>\"))\n",
    "import time\n",
    "import importlib\n",
    "import pandas as pd\n",
    "import numpy as np\n",
    "import pickle\n",
    "import cnn_utils as cnn \n",
    "import matplotlib.pyplot as plt\n",
    "import matplotlib.image as mpimg\n",
    "importlib.reload(cnn)"
   ]
  },
  {
   "cell_type": "markdown",
   "metadata": {},
   "source": [
    "# CNN Implementation"
   ]
  },
  {
   "cell_type": "markdown",
   "metadata": {},
   "source": [
    "The following code is from the [CNN tutorial at PyTorch](https://pytorch.org/tutorials/beginner/blitz/cifar10_tutorial.html). It illustrates how the network is specified in PyTorch, and counts the number of parameters."
   ]
  },
  {
   "cell_type": "code",
   "execution_count": 2,
   "metadata": {
    "ExecuteTime": {
     "end_time": "2024-04-18T18:13:30.002984Z",
     "start_time": "2024-04-18T18:13:29.980613Z"
    }
   },
   "outputs": [
    {
     "name": "stdout",
     "output_type": "stream",
     "text": [
      "The number of trainable params in each layer:\n",
      "   conv1.weight 450\n",
      "   conv1.bias 6\n",
      "   conv2.weight 2,400\n",
      "   conv2.bias 16\n",
      "   fc1.weight 48,000\n",
      "   fc1.bias 120\n",
      "   fc2.weight 10,080\n",
      "   fc2.bias 84\n",
      "   fc3.weight 840\n",
      "   fc3.bias 10\n",
      "Total trainable params: 62,006\n"
     ]
    },
    {
     "data": {
      "text/plain": [
       "62006"
      ]
     },
     "execution_count": 2,
     "metadata": {},
     "output_type": "execute_result"
    }
   ],
   "source": [
    "import torch.nn as nn\n",
    "import torch.nn.functional as F\n",
    "\n",
    "class Net(nn.Module):\n",
    "    def __init__(self):\n",
    "        super().__init__()\n",
    "        self.conv1 = nn.Conv2d(3, 6, 5)\n",
    "        self.pool = nn.MaxPool2d(2, 2)\n",
    "        self.conv2 = nn.Conv2d(6, 16, 5)\n",
    "        self.fc1 = nn.Linear(16 * 5 * 5, 120)\n",
    "        self.fc2 = nn.Linear(120, 84)\n",
    "        self.fc3 = nn.Linear(84, 10)\n",
    "\n",
    "    def forward(self, x):\n",
    "        x = self.pool(F.relu(self.conv1(x)))\n",
    "        x = self.pool(F.relu(self.conv2(x)))\n",
    "        x = x.view(-1, 16 * 5 * 5)\n",
    "        x = F.relu(self.fc1(x))\n",
    "        x = F.relu(self.fc2(x))\n",
    "        x = self.fc3(x)\n",
    "        return x\n",
    "\n",
    "net = Net()\n",
    "\n",
    "def count_parameters(model):\n",
    "    total_params = 0\n",
    "    print(f\"The number of trainable params in each layer:\")\n",
    "    for name, parameter in model.named_parameters():\n",
    "        if not parameter.requires_grad: continue\n",
    "        params = parameter.numel()\n",
    "        print('  ', name, f'{params:,d}')\n",
    "        total_params+=params\n",
    "    print(f\"Total trainable params: {total_params:,d}\")\n",
    "    return total_params\n",
    "    \n",
    "count_parameters(net)"
   ]
  },
  {
   "cell_type": "markdown",
   "metadata": {
    "pycharm": {}
   },
   "source": [
    "### Test Conv, MaxPool, and Flatten"
   ]
  },
  {
   "cell_type": "code",
   "execution_count": 3,
   "metadata": {
    "ExecuteTime": {
     "end_time": "2024-04-18T18:13:31.245025Z",
     "start_time": "2024-04-18T18:13:31.237021Z"
    },
    "pycharm": {}
   },
   "outputs": [],
   "source": [
    "class FailTestError(Exception):\n",
    "    pass\n",
    "\n",
    "input_tensor = cnn.InputValue(np.arange(4*4*2).reshape((4,4,2)))\n",
    "conv1 = cnn.InputValue(np.arange(3*3*2*4).reshape((3,3,2,4)))\n",
    "bias1 = cnn.InputValue(np.arange(4))\n",
    "v1 = cnn.InputValue(np.arange(16))"
   ]
  },
  {
   "cell_type": "code",
   "execution_count": 4,
   "metadata": {
    "ExecuteTime": {
     "end_time": "2024-04-18T18:13:31.956265Z",
     "start_time": "2024-04-18T18:13:31.884418Z"
    }
   },
   "outputs": [
    {
     "name": "stdout",
     "output_type": "stream",
     "text": [
      "Passed test on Conv with default settings\n"
     ]
    }
   ],
   "source": [
    "# Test Conv\n",
    "x = cnn.Add(input_tensor, input_tensor)\n",
    "y = cnn.Conv(x, conv1, 1, 0)\n",
    "z = cnn.Add(y, bias1)\n",
    "for component in [x,y,z]:\n",
    "    component.forward()\n",
    "z.grad = np.ones_like(z.value)\n",
    "for component in [x, y, conv1, bias1]:\n",
    "    component.grad = 0\n",
    "for component in [z,y,x]:\n",
    "    component.backward()\n",
    "\n",
    "yvalue = np.array([[[17880., 18258., 18636., 19014.],\n",
    "                    [20328., 20778., 21228., 21678.]],\n",
    "\n",
    "                   [[27672., 28338., 29004., 29670.],\n",
    "                    [30120., 30858., 31596., 32334.]]])\n",
    "y_kernel_grad = np.array([[[[ 40.,  40.,  40.,  40.],\n",
    "                             [ 48.,  48.,  48.,  48.]],\n",
    "\n",
    "                            [[ 56.,  56.,  56.,  56.],\n",
    "                             [ 64.,  64.,  64.,  64.]],\n",
    "\n",
    "                            [[ 72.,  72.,  72.,  72.],\n",
    "                             [ 80.,  80.,  80.,  80.]]],\n",
    "\n",
    "\n",
    "                           [[[104., 104., 104., 104.],\n",
    "                             [112., 112., 112., 112.]],\n",
    "\n",
    "                            [[120., 120., 120., 120.],\n",
    "                             [128., 128., 128., 128.]],\n",
    "\n",
    "                            [[136., 136., 136., 136.],\n",
    "                             [144., 144., 144., 144.]]],\n",
    "\n",
    "\n",
    "                           [[[168., 168., 168., 168.],\n",
    "                             [176., 176., 176., 176.]],\n",
    "\n",
    "                            [[184., 184., 184., 184.],\n",
    "                             [192., 192., 192., 192.]],\n",
    "\n",
    "                            [[200., 200., 200., 200.],\n",
    "                             [208., 208., 208., 208.]]]])\n",
    "y_inputtensor_grad = np.array([[[  6.,  22.],\n",
    "                                [ 44.,  76.],\n",
    "                                [108., 140.],\n",
    "                                [ 70.,  86.]],\n",
    "\n",
    "                               [[108., 140.],\n",
    "                                [280., 344.],\n",
    "                                [408., 472.],\n",
    "                                [236., 268.]],\n",
    "\n",
    "                               [[300., 332.],\n",
    "                                [664., 728.],\n",
    "                                [792., 856.],\n",
    "                                [428., 460.]],\n",
    "\n",
    "                               [[198., 214.],\n",
    "                                [428., 460.],\n",
    "                                [492., 524.],\n",
    "                                [262., 278.]]])\n",
    "\n",
    "if not np.array_equal(y.value, yvalue):\n",
    "    raise FailTestError(\"The output of Conv is incorrect\")\n",
    "if not np.array_equal(y.kernel.grad, y_kernel_grad):\n",
    "    raise FailTestError(\"The gradient of kernel in Conv is incorrect\")\n",
    "if not np.array_equal(y.input_tensor.grad, y_inputtensor_grad):\n",
    "    raise FailTestError(\"The gradient of input_tensor in Conv is incorrect\")\n",
    "print(\"Passed test on Conv with default settings\")"
   ]
  },
  {
   "cell_type": "code",
   "execution_count": 5,
   "metadata": {
    "ExecuteTime": {
     "end_time": "2024-04-18T18:11:59.794102Z",
     "start_time": "2024-04-18T18:11:59.767917Z"
    },
    "pycharm": {}
   },
   "outputs": [
    {
     "name": "stdout",
     "output_type": "stream",
     "text": [
      "Passed Test on Conv with non-zero padding\n"
     ]
    }
   ],
   "source": [
    "x = cnn.Add(input_tensor, input_tensor)\n",
    "y = cnn.Conv(x, conv1, 1, 1)\n",
    "z = cnn.Add(y, bias1)\n",
    "for component in [x,y,z]:\n",
    "    component.forward()\n",
    "z.grad = np.ones_like(z.value)\n",
    "for component in [x, y, conv1, bias1]:\n",
    "    component.grad = 0\n",
    "for component in [z,y,x]:\n",
    "    component.backward()\n",
    "\n",
    "yvalue = np.array([[[ 5248.,  5336.,  5424.,  5512.],\n",
    "                    [ 8608.,  8764.,  8920.,  9076.],\n",
    "                    [10816., 11020., 11224., 11428.],\n",
    "                    [ 7232.,  7384.,  7536.,  7688.]],\n",
    "\n",
    "                   [[11856., 12084., 12312., 12540.],\n",
    "                    [17880., 18258., 18636., 19014.],\n",
    "                    [20328., 20778., 21228., 21678.],\n",
    "                    [12912., 13236., 13560., 13884.]],\n",
    "\n",
    "                   [[19152., 19572., 19992., 20412.],\n",
    "                    [27672., 28338., 29004., 29670.],\n",
    "                    [30120., 30858., 31596., 32334.],\n",
    "                    [18672., 19188., 19704., 20220.]],\n",
    "\n",
    "                   [[ 9792., 10136., 10480., 10824.],\n",
    "                    [13312., 13852., 14392., 14932.],\n",
    "                    [14368., 14956., 15544., 16132.],\n",
    "                    [ 8192.,  8600.,  9008.,  9416.]]])\n",
    "y_kernel_grad = np.array([[[[180., 180., 180., 180.],\n",
    "                         [198., 198., 198., 198.]],\n",
    "\n",
    "                        [[264., 264., 264., 264.],\n",
    "                         [288., 288., 288., 288.]],\n",
    "\n",
    "                        [[216., 216., 216., 216.],\n",
    "                         [234., 234., 234., 234.]]],\n",
    "\n",
    "\n",
    "                       [[[336., 336., 336., 336.],\n",
    "                         [360., 360., 360., 360.]],\n",
    "\n",
    "                        [[480., 480., 480., 480.],\n",
    "                         [512., 512., 512., 512.]],\n",
    "\n",
    "                        [[384., 384., 384., 384.],\n",
    "                         [408., 408., 408., 408.]]],\n",
    "\n",
    "\n",
    "                       [[[324., 324., 324., 324.],\n",
    "                         [342., 342., 342., 342.]],\n",
    "\n",
    "                        [[456., 456., 456., 456.],\n",
    "                         [480., 480., 480., 480.]],\n",
    "\n",
    "                        [[360., 360., 360., 360.],\n",
    "                         [378., 378., 378., 378.]]]])\n",
    "y_inputtensor_grad = np.array([[[ 280.,  344.],\n",
    "                                [ 516.,  612.],\n",
    "                                [ 516.,  612.],\n",
    "                                [ 408.,  472.]],\n",
    "\n",
    "                               [[ 708.,  804.],\n",
    "                                [1206., 1350.],\n",
    "                                [1206., 1350.],\n",
    "                                [ 900.,  996.]],\n",
    "\n",
    "                               [[ 708.,  804.],\n",
    "                                [1206., 1350.],\n",
    "                                [1206., 1350.],\n",
    "                                [ 900.,  996.]],\n",
    "\n",
    "                               [[ 664.,  728.],\n",
    "                                [1092., 1188.],\n",
    "                                [1092., 1188.],\n",
    "                                [ 792.,  856.]]])\n",
    "\n",
    "if not np.array_equal(y.value, yvalue):\n",
    "    raise FailTestError(\"The output of Conv is incorrect\")\n",
    "if not np.array_equal(y.kernel.grad, y_kernel_grad):\n",
    "    raise FailTestError(\"The gradient of kernel in Conv is incorrect\")\n",
    "if not np.array_equal(y.input_tensor.grad, y_inputtensor_grad):\n",
    "    raise FailTestError(\"The gradient of input_tensor in Conv is incorrect\")\n",
    "print(\"Passed Test on Conv with non-zero padding\")"
   ]
  },
  {
   "cell_type": "code",
   "execution_count": 6,
   "metadata": {
    "ExecuteTime": {
     "end_time": "2024-04-18T18:12:08.156458Z",
     "start_time": "2024-04-18T18:12:08.135576Z"
    }
   },
   "outputs": [
    {
     "name": "stdout",
     "output_type": "stream",
     "text": [
      "Passed Test on Conv with stride 2 and padding 1\n"
     ]
    }
   ],
   "source": [
    "x = cnn.Add(input_tensor, input_tensor)\n",
    "y = cnn.Conv(x, conv1, 2, 1)\n",
    "z = cnn.Add(y, bias1)\n",
    "for component in [x,y,z]:\n",
    "    component.forward()\n",
    "z.grad = np.ones_like(z.value)\n",
    "for component in [x, y, conv1, bias1]:\n",
    "    component.grad = 0\n",
    "for component in [z,y,x]:\n",
    "    component.backward()\n",
    "\n",
    "yvalue = np.array([[[ 5248.,  5336.,  5424.,  5512.],\n",
    "                    [10816., 11020., 11224., 11428.]],\n",
    "\n",
    "                   [[19152., 19572., 19992., 20412.],\n",
    "                    [30120., 30858., 31596., 32334.]]])\n",
    "y_kernel_grad = np.array([[[[ 20.,  20.,  20.,  20.],\n",
    "                             [ 22.,  22.,  22.,  22.]],\n",
    "\n",
    "                            [[ 40.,  40.,  40.,  40.],\n",
    "                             [ 44.,  44.,  44.,  44.]],\n",
    "\n",
    "                            [[ 48.,  48.,  48.,  48.],\n",
    "                             [ 52.,  52.,  52.,  52.]]],\n",
    "\n",
    "\n",
    "                           [[[ 40.,  40.,  40.,  40.],\n",
    "                             [ 44.,  44.,  44.,  44.]],\n",
    "\n",
    "                            [[ 80.,  80.,  80.,  80.],\n",
    "                             [ 88.,  88.,  88.,  88.]],\n",
    "\n",
    "                            [[ 96.,  96.,  96.,  96.],\n",
    "                             [104., 104., 104., 104.]]],\n",
    "\n",
    "\n",
    "                           [[[ 72.,  72.,  72.,  72.],\n",
    "                             [ 76.,  76.,  76.,  76.]],\n",
    "\n",
    "                            [[144., 144., 144., 144.],\n",
    "                             [152., 152., 152., 152.]],\n",
    "\n",
    "                            [[160., 160., 160., 160.],\n",
    "                             [168., 168., 168., 168.]]]])\n",
    "y_inputtensor_grad = np.array([[[134., 150.],\n",
    "                                [268., 300.],\n",
    "                                [134., 150.],\n",
    "                                [166., 182.]],\n",
    "\n",
    "                               [[268., 300.],\n",
    "                                [536., 600.],\n",
    "                                [268., 300.],\n",
    "                                [332., 364.]],\n",
    "\n",
    "                               [[134., 150.],\n",
    "                                [268., 300.],\n",
    "                                [134., 150.],\n",
    "                                [166., 182.]],\n",
    "\n",
    "                               [[230., 246.],\n",
    "                                [460., 492.],\n",
    "                                [230., 246.],\n",
    "                                [262., 278.]]])\n",
    "\n",
    "if not np.array_equal(y.value, yvalue):\n",
    "    raise FailTestError(\"The output of Conv is incorrect\")\n",
    "if not np.array_equal(y.kernel.grad, y_kernel_grad):\n",
    "    raise FailTestError(\"The gradient of kernel in Conv is incorrect\")\n",
    "if not np.array_equal(y.input_tensor.grad, y_inputtensor_grad):\n",
    "    raise FailTestError(\"The gradient of input_tensor in Conv is incorrect\")\n",
    "print(\"Passed Test on Conv with stride 2 and padding 1\")"
   ]
  },
  {
   "cell_type": "code",
   "execution_count": 7,
   "metadata": {
    "ExecuteTime": {
     "end_time": "2024-04-18T18:12:11.464994Z",
     "start_time": "2024-04-18T18:12:11.444329Z"
    }
   },
   "outputs": [
    {
     "name": "stdout",
     "output_type": "stream",
     "text": [
      "Passed Test on MaxPool\n"
     ]
    }
   ],
   "source": [
    "# Test MaxPool\n",
    "x = cnn.Add(input_tensor, input_tensor)\n",
    "y = cnn.Conv(x, conv1, 1, 1)\n",
    "z = cnn.Add(y, bias1)\n",
    "u = cnn.RELU(z)\n",
    "v = cnn.MaxPool(u, 2)\n",
    "for component in [x,y,z,u,v]:\n",
    "    component.forward()\n",
    "v.grad = np.ones_like(v.value)\n",
    "for component in [x,y,z,u, conv1, bias1]:\n",
    "    component.grad = 0\n",
    "for component in [v,u,z,y,x]:\n",
    "    component.backward()\n",
    "\n",
    "vvalue = np.array([[[17880., 18259., 18638., 19017.],\n",
    "                    [20328., 20779., 21230., 21681.]],\n",
    "                   [[27672., 28339., 29006., 29673.],\n",
    "                    [30120., 30859., 31598., 32337.]]])\n",
    "v_inputtensor_grad = np.array([[[0., 0., 0., 0.],\n",
    "                                [0., 0., 0., 0.],\n",
    "                                [0., 0., 0., 0.],\n",
    "                                [0., 0., 0., 0.]],\n",
    "\n",
    "                               [[0., 0., 0., 0.],\n",
    "                                [1., 1., 1., 1.],\n",
    "                                [1., 1., 1., 1.],\n",
    "                                [0., 0., 0., 0.]],\n",
    "\n",
    "                               [[0., 0., 0., 0.],\n",
    "                                [1., 1., 1., 1.],\n",
    "                                [1., 1., 1., 1.],\n",
    "                                [0., 0., 0., 0.]],\n",
    "\n",
    "                               [[0., 0., 0., 0.],\n",
    "                                [0., 0., 0., 0.],\n",
    "                                [0., 0., 0., 0.],\n",
    "                                [0., 0., 0., 0.]]])\n",
    "\n",
    "if not np.array_equal(v.value, vvalue):\n",
    "    raise FailTestError(\"The output of MaxPool is incorrect\")\n",
    "if not np.array_equal(v.input_tensor.grad, v_inputtensor_grad):\n",
    "    raise FailTestError(\"The gradient of input_tensor in MaxPool is incorrect\")\n",
    "print(\"Passed Test on MaxPool\")"
   ]
  },
  {
   "cell_type": "code",
   "execution_count": 8,
   "metadata": {
    "ExecuteTime": {
     "end_time": "2024-04-18T18:12:14.696739Z",
     "start_time": "2024-04-18T18:12:14.676053Z"
    }
   },
   "outputs": [
    {
     "name": "stdout",
     "output_type": "stream",
     "text": [
      "Passed Test on MaxPool with non-default stride\n"
     ]
    }
   ],
   "source": [
    "x = cnn.Add(input_tensor, input_tensor)\n",
    "y = cnn.Conv(x, conv1, 1, 1)\n",
    "z = cnn.Add(y, bias1)\n",
    "u = cnn.RELU(z)\n",
    "v = cnn.MaxPool(u, 2, stride=4)\n",
    "for component in [x,y,z,u,v]:\n",
    "    component.forward()\n",
    "v.grad = np.ones_like(v.value)\n",
    "for component in [x,y,z,u, conv1, bias1]:\n",
    "    component.grad = 0\n",
    "for component in [v,u,z,y,x]:\n",
    "    component.backward()\n",
    "\n",
    "vvalue = np.array([[[17880., 18259., 18638., 19017.]]])\n",
    "v_inputtensor_grad = np.array([[[0., 0., 0., 0.],\n",
    "                                [0., 0., 0., 0.],\n",
    "                                [0., 0., 0., 0.],\n",
    "                                [0., 0., 0., 0.]],\n",
    "\n",
    "                               [[0., 0., 0., 0.],\n",
    "                                [1., 1., 1., 1.],\n",
    "                                [0., 0., 0., 0.],\n",
    "                                [0., 0., 0., 0.]],\n",
    "                               \n",
    "                               [[0., 0., 0., 0.],\n",
    "                                [0., 0., 0., 0.],\n",
    "                                [0., 0., 0., 0.],\n",
    "                                [0., 0., 0., 0.]],\n",
    "\n",
    "                               [[0., 0., 0., 0.],\n",
    "                                [0., 0., 0., 0.],\n",
    "                                [0., 0., 0., 0.],\n",
    "                                [0., 0., 0., 0.]]])\n",
    "\n",
    "if not np.array_equal(v.value, vvalue):\n",
    "    raise FailTestError(\"The output of MaxPool is incorrect\")\n",
    "if not np.array_equal(v.input_tensor.grad, v_inputtensor_grad):\n",
    "    raise FailTestError(\"The gradient of input_tensor in MaxPool is incorrect\")\n",
    "print(\"Passed Test on MaxPool with non-default stride\")"
   ]
  },
  {
   "cell_type": "code",
   "execution_count": 9,
   "metadata": {
    "ExecuteTime": {
     "end_time": "2024-04-18T18:12:17.294099Z",
     "start_time": "2024-04-18T18:12:17.267509Z"
    },
    "scrolled": true
   },
   "outputs": [
    {
     "name": "stdout",
     "output_type": "stream",
     "text": [
      "Passed Test on Flatten\n"
     ]
    }
   ],
   "source": [
    "# Test Flatten\n",
    "x = cnn.Add(input_tensor, input_tensor)\n",
    "y = cnn.Conv(x, conv1, 1, 1)\n",
    "z = cnn.Add(y, bias1)\n",
    "u = cnn.RELU(z)\n",
    "v = cnn.MaxPool(u, 2)\n",
    "w = cnn.Flatten(v)\n",
    "o = cnn.Mul(w, v1)\n",
    "for component in [x,y,z,u,v,w,o]:\n",
    "    component.forward()\n",
    "o.grad = np.ones_like(o.value)\n",
    "for component in [x,y,z,u,v,w,conv1, bias1]:\n",
    "    component.grad = 0\n",
    "for component in [o,w,v,u,z,y,x]:\n",
    "    component.backward()\n",
    "\n",
    "wvalue = np.array([17880., 18259., 18638., 19017., 20328., 20779., 21230., 21681.,\n",
    "       27672., 28339., 29006., 29673., 30120., 30859., 31598., 32337.])\n",
    "w_inputtensor_grad = np.array([[[ 0.,  1.,  2.,  3.],\n",
    "        [ 4.,  5.,  6.,  7.]],\n",
    "\n",
    "       [[ 8.,  9., 10., 11.],\n",
    "        [12., 13., 14., 15.]]])\n",
    "\n",
    "if not np.array_equal(w.value, wvalue):\n",
    "    raise FailTestError(\"The output of Flatten is incorrect\")\n",
    "if not np.array_equal(w.input_tensor.grad, w_inputtensor_grad):\n",
    "    raise FailTestError(\"The gradient of input_tensor in Flatten is incorrect\")\n",
    "print(\"Passed Test on Flatten\")"
   ]
  },
  {
   "cell_type": "code",
   "execution_count": 10,
   "metadata": {
    "ExecuteTime": {
     "end_time": "2024-04-18T18:12:20.398654Z",
     "start_time": "2024-04-18T18:12:20.376608Z"
    }
   },
   "outputs": [
    {
     "name": "stdout",
     "output_type": "stream",
     "text": [
      "Passed Test on ReLU\n"
     ]
    }
   ],
   "source": [
    "# Test ReLU\n",
    "c1 = cnn.InputValue(np.sin(np.arange(3*3*4).reshape((3,3,4))).astype(np.float32))\n",
    "b1 = cnn.InputValue(np.sin(np.arange(4)).astype(np.float32))\n",
    "m1 = cnn.InputValue(np.cos(np.arange(3*3*4).reshape((3,3,4))).astype(np.float32))\n",
    "\n",
    "x = cnn.Add(c1, b1)\n",
    "y = cnn.RELU(x)\n",
    "z = cnn.Mul(y, m1)\n",
    "for component in [x,y,z]:\n",
    "    component.forward()\n",
    "z.grad = np.ones_like(z.value)\n",
    "for component in [x,y]:\n",
    "    component.grad = 0\n",
    "for component in [z,y,x]:\n",
    "    component.backward()\n",
    "\n",
    "yvalue = np.array([[[0.        , 1.6829419 , 1.8185948 , 0.28224   ],\n",
    "                    [0.        , 0.        , 0.6298819 , 0.7981066 ],\n",
    "                    [0.98935825, 1.2535894 , 0.36527628, 0.        ]],\n",
    "\n",
    "                   [[0.        , 1.2616379 , 1.8999047 , 0.7914079 ],\n",
    "                    [0.        , 0.        , 0.15831017, 0.2909972 ],\n",
    "                    [0.9129453 , 1.6781266 , 0.9004461 , 0.        ]],\n",
    "\n",
    "                   [[0.        , 0.7091192 , 1.6718559 , 1.0974959 ],\n",
    "                    [0.2709058 , 0.17783707, 0.        , 0.        ],\n",
    "                    [0.5514267 , 1.8413827 , 1.4383801 , 0.        ]]], dtype=np.float32)\n",
    "yagrad = np.array([[[ 0.        ,  0.5403023 , -0.41614684, -0.9899925 ],\n",
    "                                [ 0.        ,  0.        ,  0.96017027,  0.75390226],\n",
    "                                [-0.14550003, -0.91113025, -0.8390715 ,  0.        ]],\n",
    "\n",
    "                               [[ 0.        ,  0.9074468 ,  0.13673721, -0.7596879 ],\n",
    "                                [ 0.        ,  0.        ,  0.6603167 ,  0.9887046 ],\n",
    "                                [ 0.40808207, -0.54772925, -0.99996084,  0.        ]],\n",
    "\n",
    "                               [[ 0.        ,  0.99120283,  0.6469193 , -0.29213881],\n",
    "                                [-0.9626059 , -0.74805754,  0.        ,  0.        ],\n",
    "                                [ 0.8342234 , -0.01327675, -0.8485703 ,  0.        ]]],\n",
    "                              dtype=np.float32)\n",
    "\n",
    "if not np.array_equal(np.round(y.value.astype(np.float32),3), np.round(yvalue.astype(np.float32), 3)):\n",
    "    raise FailTestError(\"The output of ReLU is incorrect\")\n",
    "if not np.array_equal(np.round(y.a.grad.astype(np.float32),3), np.round(yagrad.astype(np.float32), 3)):\n",
    "    raise FailTestError(\"The gradient of input_tensor in ReLU is incorrect\")\n",
    "print(\"Passed Test on ReLU\")"
   ]
  },
  {
   "cell_type": "markdown",
   "metadata": {
    "pycharm": {}
   },
   "source": [
    "# Applying to the CIFAR10 dataset\n",
    "- Details: https://www.cs.toronto.edu/~kriz/cifar.html\n",
    "- Label 0 to 9 refers to 0:airplane, 1:automobile, 2:bird, 3:cat, 4:deer, 5:dog, 6:frog, 7:horse, 8:ship, 9:truck\n",
    "- Only uses a subsample of 10000 images with 1000 of each class.\n"
   ]
  },
  {
   "cell_type": "code",
   "execution_count": 11,
   "metadata": {
    "ExecuteTime": {
     "end_time": "2024-04-18T18:12:24.798619Z",
     "start_time": "2024-04-18T18:12:24.743500Z"
    },
    "pycharm": {}
   },
   "outputs": [
    {
     "ename": "FileNotFoundError",
     "evalue": "[Errno 2] No such file or directory: './cifar10_data/sub_data.npz'",
     "output_type": "error",
     "traceback": [
      "\u001b[1;31m---------------------------------------------------------------------------\u001b[0m",
      "\u001b[1;31mFileNotFoundError\u001b[0m                         Traceback (most recent call last)",
      "Cell \u001b[1;32mIn[11], line 1\u001b[0m\n\u001b[1;32m----> 1\u001b[0m data \u001b[38;5;241m=\u001b[39m \u001b[43mnp\u001b[49m\u001b[38;5;241;43m.\u001b[39;49m\u001b[43mload\u001b[49m\u001b[43m(\u001b[49m\u001b[38;5;124;43m'\u001b[39;49m\u001b[38;5;124;43m./cifar10_data/sub_data.npz\u001b[39;49m\u001b[38;5;124;43m'\u001b[39;49m\u001b[43m)\u001b[49m\n\u001b[0;32m      2\u001b[0m X \u001b[38;5;241m=\u001b[39m np\u001b[38;5;241m.\u001b[39mfloat32(data[\u001b[38;5;124m'\u001b[39m\u001b[38;5;124mimgs\u001b[39m\u001b[38;5;124m'\u001b[39m])\u001b[38;5;241m/\u001b[39m\u001b[38;5;241m255.\u001b[39m\n\u001b[0;32m      3\u001b[0m \u001b[38;5;66;03m# Reshape the valid image data to (idx, h, w, channel)\u001b[39;00m\n",
      "File \u001b[1;32mc:\\Users\\zodes\\AppData\\Local\\Programs\\Python\\Python312\\Lib\\site-packages\\numpy\\lib\\npyio.py:427\u001b[0m, in \u001b[0;36mload\u001b[1;34m(file, mmap_mode, allow_pickle, fix_imports, encoding, max_header_size)\u001b[0m\n\u001b[0;32m    425\u001b[0m     own_fid \u001b[38;5;241m=\u001b[39m \u001b[38;5;28;01mFalse\u001b[39;00m\n\u001b[0;32m    426\u001b[0m \u001b[38;5;28;01melse\u001b[39;00m:\n\u001b[1;32m--> 427\u001b[0m     fid \u001b[38;5;241m=\u001b[39m stack\u001b[38;5;241m.\u001b[39menter_context(\u001b[38;5;28;43mopen\u001b[39;49m\u001b[43m(\u001b[49m\u001b[43mos_fspath\u001b[49m\u001b[43m(\u001b[49m\u001b[43mfile\u001b[49m\u001b[43m)\u001b[49m\u001b[43m,\u001b[49m\u001b[43m \u001b[49m\u001b[38;5;124;43m\"\u001b[39;49m\u001b[38;5;124;43mrb\u001b[39;49m\u001b[38;5;124;43m\"\u001b[39;49m\u001b[43m)\u001b[49m)\n\u001b[0;32m    428\u001b[0m     own_fid \u001b[38;5;241m=\u001b[39m \u001b[38;5;28;01mTrue\u001b[39;00m\n\u001b[0;32m    430\u001b[0m \u001b[38;5;66;03m# Code to distinguish from NumPy binary files and pickles.\u001b[39;00m\n",
      "\u001b[1;31mFileNotFoundError\u001b[0m: [Errno 2] No such file or directory: './cifar10_data/sub_data.npz'"
     ]
    }
   ],
   "source": [
    "data = np.load('./cifar10_data/sub_data.npz')\n",
    "X = np.float32(data['imgs'])/255.\n",
    "# Reshape the valid image data to (idx, h, w, channel)\n",
    "X = X.reshape(10000, 32, 32, 3)\n",
    "y = np.float32(data['labels'])\n",
    "\n",
    "# for simplicity, focus on the first four classes\n",
    "# there are 4000 images in total\n",
    "sub_idx = np.where(y<=3)[0]\n",
    "X = X[sub_idx]\n",
    "y = y[sub_idx]\n",
    "\n",
    "# split in to train an test set\n",
    "train_x, test_x = X[:3000], X[3000:]\n",
    "train_y, test_y = y[:3000], y[3000:]"
   ]
  },
  {
   "cell_type": "code",
   "execution_count": null,
   "metadata": {
    "ExecuteTime": {
     "end_time": "2024-04-18T18:12:27.389490Z",
     "start_time": "2024-04-18T18:12:27.291213Z"
    }
   },
   "outputs": [
    {
     "name": "stdout",
     "output_type": "stream",
     "text": [
      "3.0\n"
     ]
    },
    {
     "data": {
      "image/png": "[encoded data removed]",
      "text/plain": [
       "<Figure size 640x480 with 1 Axes>"
      ]
     },
     "metadata": {},
     "output_type": "display_data"
    }
   ],
   "source": [
    "# below is what an image looks like\n",
    "print(train_y[0])  # 3:cat\n",
    "imgplot = plt.imshow(train_x[0])\n",
    "plt.show()"
   ]
  },
  {
   "cell_type": "markdown",
   "metadata": {},
   "source": [
    "### Debugging the fit function"
   ]
  },
  {
   "cell_type": "code",
   "execution_count": null,
   "metadata": {
    "ExecuteTime": {
     "end_time": "2024-04-18T18:12:31.549682Z",
     "start_time": "2024-04-18T18:12:31.306569Z"
    },
    "scrolled": true
   },
   "outputs": [
    {
     "name": "stdout",
     "output_type": "stream",
     "text": [
      "Append <Conv> to the computational graph\n",
      "Append <Add> to the computational graph\n",
      "Append <RELU> to the computational graph\n",
      "Append <MaxPool> to the computational graph\n",
      "Append <Conv> to the computational graph\n",
      "Append <Add> to the computational graph\n",
      "Append <RELU> to the computational graph\n",
      "Append <MaxPool> to the computational graph\n",
      "Append <Flatten> to the computational graph\n",
      "Append <VDot> to the computational graph\n",
      "Append <Add> to the computational graph\n",
      "Append <RELU> to the computational graph\n",
      "Append <VDot> to the computational graph\n",
      "Append <Add> to the computational graph\n",
      "Append <RELU> to the computational graph\n",
      "Append <VDot> to the computational graph\n",
      "Append <Add> to the computational graph\n",
      "Append <SoftMax> to the computational graph\n",
      "Append <Aref> to the computational graph\n",
      "Append <Log> to the computational graph\n",
      "Append <Mul> to the computational graph\n",
      "Append <Accuracy> to the computational graph\n"
     ]
    },
    {
     "data": {
      "application/vnd.jupyter.widget-view+json": {
       "model_id": "4ffdeabb1fd44ae0b211b172e66c4b47",
       "version_major": 2,
       "version_minor": 0
      },
      "text/plain": [
       "  0%|          | 0/2 [00:00<?, ?it/s]"
      ]
     },
     "metadata": {},
     "output_type": "display_data"
    },
    {
     "name": "stdout",
     "output_type": "stream",
     "text": [
      "Epoch 0: train loss = 1.2295, accy = 0.5000, [0.207 secs]\n"
     ]
    },
    {
     "data": {
      "image/png": "[encoded data removed]",
      "text/plain": [
       "<Figure size 640x480 with 1 Axes>"
      ]
     },
     "metadata": {},
     "output_type": "display_data"
    },
    {
     "data": {
      "image/png": "[encoded data removed]",
      "text/plain": [
       "<Figure size 640x480 with 1 Axes>"
      ]
     },
     "metadata": {},
     "output_type": "display_data"
    },
    {
     "name": "stdout",
     "output_type": "stream",
     "text": [
      "Congrats! You have passed the test of your fit function, your CNN model should be good to go!\n"
     ]
    }
   ],
   "source": [
    "model = cnn.CNN(num_labels=4)\n",
    "\n",
    "# Use the provided sample weights for initialization to help debug\n",
    "with open(\"./cifar10_data/sample_params.pkl\", 'rb') as f:\n",
    "    params = pickle.load(f)\n",
    "model.set_params_by_dict(params)\n",
    "\n",
    "# Use the first 2 samples to test if the gradients are correct\n",
    "X = train_x[:2]\n",
    "y = train_y[:2]\n",
    "\n",
    "# When calling fit, a computational graph will be built first\n",
    "model.fit_plot(X, y, alpha=0.01, t=1)\n",
    "\n",
    "# Load the sample gradient for debugging\n",
    "with open(\"./cifar10_data/sample_grad.pkl\", 'rb') as f:\n",
    "    sample_grad = pickle.load(f)\n",
    "\n",
    "for k in params.keys():\n",
    "    if not np.array_equal(np.round(sample_grad[k], 3), np.round(model.params[k].grad, 3)):\n",
    "        raise FailTestError(f\"gradient of param {k} is incorrect\")\n",
    "print(\"Congrats! Passed the test of your fit function, CNN model should be good to go!\")\n"
   ]
  },
  {
   "cell_type": "markdown",
   "metadata": {},
   "source": [
    "### Train CNN on the whole training dataset"
   ]
  },
  {
   "cell_type": "code",
   "execution_count": null,
   "metadata": {
    "ExecuteTime": {
     "end_time": "2024-04-18T18:13:16.718653Z",
     "start_time": "2024-04-18T18:12:40.578156Z"
    },
    "scrolled": true
   },
   "outputs": [
    {
     "name": "stdout",
     "output_type": "stream",
     "text": [
      "Append <Conv> to the computational graph\n",
      "Append <Add> to the computational graph\n",
      "Append <RELU> to the computational graph\n",
      "Append <MaxPool> to the computational graph\n",
      "Append <Conv> to the computational graph\n",
      "Append <Add> to the computational graph\n",
      "Append <RELU> to the computational graph\n",
      "Append <MaxPool> to the computational graph\n",
      "Append <Flatten> to the computational graph\n",
      "Append <VDot> to the computational graph\n",
      "Append <Add> to the computational graph\n",
      "Append <RELU> to the computational graph\n",
      "Append <VDot> to the computational graph\n",
      "Append <Add> to the computational graph\n",
      "Append <RELU> to the computational graph\n",
      "Append <VDot> to the computational graph\n",
      "Append <Add> to the computational graph\n",
      "Append <SoftMax> to the computational graph\n",
      "Append <Aref> to the computational graph\n",
      "Append <Log> to the computational graph\n",
      "Append <Mul> to the computational graph\n",
      "Append <Accuracy> to the computational graph\n"
     ]
    },
    {
     "data": {
      "application/vnd.jupyter.widget-view+json": {
       "model_id": "8b2b02afd0e647dcbd2ff12e36d2fe5f",
       "version_major": 2,
       "version_minor": 0
      },
      "text/plain": [
       "  0%|          | 0/3000 [00:00<?, ?it/s]"
      ]
     },
     "metadata": {},
     "output_type": "display_data"
    },
    {
     "name": "stdout",
     "output_type": "stream",
     "text": [
      "Epoch 0: train loss = 1.0402, accy = 0.5280, [294.648 secs]\n"
     ]
    },
    {
     "data": {
      "application/vnd.jupyter.widget-view+json": {
       "model_id": "a7ebf12c7d27451087364234b085c663",
       "version_major": 2,
       "version_minor": 0
      },
      "text/plain": [
       "  0%|          | 0/3000 [00:00<?, ?it/s]"
      ]
     },
     "metadata": {},
     "output_type": "display_data"
    },
    {
     "name": "stdout",
     "output_type": "stream",
     "text": [
      "Epoch 1: train loss = 0.8902, accy = 0.6037, [291.815 secs]\n"
     ]
    },
    {
     "data": {
      "application/vnd.jupyter.widget-view+json": {
       "model_id": "a15617a305d54e21ad74b4a40d23656c",
       "version_major": 2,
       "version_minor": 0
      },
      "text/plain": [
       "  0%|          | 0/3000 [00:00<?, ?it/s]"
      ]
     },
     "metadata": {},
     "output_type": "display_data"
    },
    {
     "name": "stdout",
     "output_type": "stream",
     "text": [
      "Epoch 2: train loss = 0.7262, accy = 0.7153, [291.287 secs]\n"
     ]
    },
    {
     "data": {
      "application/vnd.jupyter.widget-view+json": {
       "model_id": "28d0fa5ae1c4401f83db83294a2eb0c9",
       "version_major": 2,
       "version_minor": 0
      },
      "text/plain": [
       "  0%|          | 0/3000 [00:00<?, ?it/s]"
      ]
     },
     "metadata": {},
     "output_type": "display_data"
    },
    {
     "name": "stdout",
     "output_type": "stream",
     "text": [
      "Epoch 3: train loss = 0.6910, accy = 0.7190, [291.014 secs]\n"
     ]
    },
    {
     "data": {
      "application/vnd.jupyter.widget-view+json": {
       "model_id": "2b2d633275554f01aa125879f0dd9aed",
       "version_major": 2,
       "version_minor": 0
      },
      "text/plain": [
       "  0%|          | 0/3000 [00:00<?, ?it/s]"
      ]
     },
     "metadata": {},
     "output_type": "display_data"
    },
    {
     "name": "stdout",
     "output_type": "stream",
     "text": [
      "Epoch 4: train loss = 0.6056, accy = 0.7560, [292.378 secs]\n"
     ]
    },
    {
     "data": {
      "application/vnd.jupyter.widget-view+json": {
       "model_id": "68464274b42f4b3aae1108400ab7e53d",
       "version_major": 2,
       "version_minor": 0
      },
      "text/plain": [
       "  0%|          | 0/3000 [00:00<?, ?it/s]"
      ]
     },
     "metadata": {},
     "output_type": "display_data"
    },
    {
     "name": "stdout",
     "output_type": "stream",
     "text": [
      "Epoch 5: train loss = 0.5356, accy = 0.7860, [292.487 secs]\n"
     ]
    },
    {
     "data": {
      "application/vnd.jupyter.widget-view+json": {
       "model_id": "7b415babf41342298be327b47702c09b",
       "version_major": 2,
       "version_minor": 0
      },
      "text/plain": [
       "  0%|          | 0/3000 [00:00<?, ?it/s]"
      ]
     },
     "metadata": {},
     "output_type": "display_data"
    },
    {
     "name": "stdout",
     "output_type": "stream",
     "text": [
      "Epoch 6: train loss = 0.4971, accy = 0.8030, [292.266 secs]\n"
     ]
    },
    {
     "data": {
      "application/vnd.jupyter.widget-view+json": {
       "model_id": "e0f4054e629c421fabd8ada8fa381a72",
       "version_major": 2,
       "version_minor": 0
      },
      "text/plain": [
       "  0%|          | 0/3000 [00:00<?, ?it/s]"
      ]
     },
     "metadata": {},
     "output_type": "display_data"
    },
    {
     "name": "stdout",
     "output_type": "stream",
     "text": [
      "Epoch 7: train loss = 0.6881, accy = 0.7363, [290.809 secs]\n"
     ]
    },
    {
     "data": {
      "application/vnd.jupyter.widget-view+json": {
       "model_id": "3dcef1c2d11e4a44addec026aa0931a2",
       "version_major": 2,
       "version_minor": 0
      },
      "text/plain": [
       "  0%|          | 0/3000 [00:00<?, ?it/s]"
      ]
     },
     "metadata": {},
     "output_type": "display_data"
    },
    {
     "name": "stdout",
     "output_type": "stream",
     "text": [
      "Epoch 8: train loss = 0.5625, accy = 0.7783, [290.199 secs]\n"
     ]
    },
    {
     "data": {
      "application/vnd.jupyter.widget-view+json": {
       "model_id": "8d4f2463a3d04f58b26ae2c3e1f151ab",
       "version_major": 2,
       "version_minor": 0
      },
      "text/plain": [
       "  0%|          | 0/3000 [00:00<?, ?it/s]"
      ]
     },
     "metadata": {},
     "output_type": "display_data"
    },
    {
     "name": "stdout",
     "output_type": "stream",
     "text": [
      "Epoch 9: train loss = 0.5667, accy = 0.7807, [292.976 secs]\n"
     ]
    },
    {
     "data": {
      "image/png": "[encoded data removed]",
      "text/plain": [
       "<Figure size 640x480 with 1 Axes>"
      ]
     },
     "metadata": {},
     "output_type": "display_data"
    },
    {
     "data": {
      "image/png": "[encoded data removed]",
      "text/plain": [
       "<Figure size 640x480 with 1 Axes>"
      ]
     },
     "metadata": {},
     "output_type": "display_data"
    }
   ],
   "source": [
    "model = cnn.CNN(num_labels=4)\n",
    "model.init_params_with_xavier()\n",
    "model.fit_plot(train_x, train_y, 0.01, 10)"
   ]
  },
  {
   "cell_type": "code",
   "execution_count": null,
   "metadata": {},
   "outputs": [
    {
     "name": "stdout",
     "output_type": "stream",
     "text": [
      "Test accuracy = 0.6510, loss = 1.0649\n"
     ]
    }
   ],
   "source": [
    "accy, loss = model.eval(test_x, test_y)\n",
    "print(\"Test accuracy = %.4f, loss = %.4f\" % (accy, loss))"
   ]
  },
  {
   "cell_type": "markdown",
   "metadata": {},
   "source": [
    "The graphs show an upward trend in the training accuracy, indicating an improvement in the model performance\n",
    "with a number of epochs. There is a dip in the performance around 8 epochs, which could be attributed to the\n",
    "model temporarily learning features that do not generalise well.\n",
    "\n",
    "However, the training of the model across 10 epochs increase the accuracy from less than 55% to over 75% on the\n",
    "training dataset, and 65% on the test dataset, indicating that the CNN is effective in the classification task it is\n",
    "trained for."
   ]
  }
 ],
 "metadata": {
  "anaconda-cloud": {},
  "kernelspec": {
   "display_name": "Python 3",
   "language": "python",
   "name": "python3"
  },
  "language_info": {
   "codemirror_mode": {
    "name": "ipython",
    "version": 3
   },
   "file_extension": ".py",
   "mimetype": "text/x-python",
   "name": "python",
   "nbconvert_exporter": "python",
   "pygments_lexer": "ipython3",
   "version": "3.12.0"
  }
 },
 "nbformat": 4,
 "nbformat_minor": 2
}
