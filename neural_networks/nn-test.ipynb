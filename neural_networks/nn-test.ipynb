{
 "cells": [
  {
   "cell_type": "code",
   "execution_count": 27,
   "metadata": {
    "ExecuteTime": {
     "end_time": "2024-04-11T19:58:32.714560Z",
     "start_time": "2024-04-11T19:58:32.366538Z"
    },
    "pycharm": {}
   },
   "outputs": [
    {
     "data": {
      "text/html": [
       "<style>.container { width:80% !important; }</style>"
      ],
      "text/plain": [
       "<IPython.core.display.HTML object>"
      ]
     },
     "metadata": {},
     "output_type": "display_data"
    },
    {
     "data": {
      "text/plain": [
       "<module 'nn_utils' from 'c:\\\\Users\\\\zodes\\\\Documents\\\\Academics\\\\UChicago MPCS\\\\Machine Learning\\\\coding-ml-algos\\\\neural_networks\\\\nn_utils.py'>"
      ]
     },
     "execution_count": 27,
     "metadata": {},
     "output_type": "execute_result"
    }
   ],
   "source": [
    "from IPython.display import display, HTML\n",
    "display(HTML(\"<style>.container { width:80% !important; }</style>\"))\n",
    "import time\n",
    "import importlib\n",
    "import pandas as pd\n",
    "import numpy as np\n",
    "import pickle\n",
    "import nn_utils as nn\n",
    "importlib.reload(nn)"
   ]
  },
  {
   "cell_type": "code",
   "execution_count": 28,
   "metadata": {},
   "outputs": [],
   "source": [
    "class FailTestError(Exception):\n",
    "    'Raised when a test fails'\n",
    "    pass"
   ]
  },
  {
   "cell_type": "markdown",
   "metadata": {},
   "source": [
    "### Test cases to help debug getting and setting weights"
   ]
  },
  {
   "cell_type": "code",
   "execution_count": 29,
   "metadata": {
    "ExecuteTime": {
     "end_time": "2024-04-11T19:58:35.668980Z",
     "start_time": "2024-04-11T19:58:35.657617Z"
    },
    "pycharm": {}
   },
   "outputs": [
    {
     "name": "stdout",
     "output_type": "stream",
     "text": [
      "Passed the test for set_weights and get_weights.\n"
     ]
    }
   ],
   "source": [
    "nn.test_set_and_get_weights()"
   ]
  },
  {
   "cell_type": "markdown",
   "metadata": {
    "pycharm": {}
   },
   "source": [
    "### Test cases to help debug the different operation classes"
   ]
  },
  {
   "cell_type": "code",
   "execution_count": 30,
   "metadata": {
    "ExecuteTime": {
     "end_time": "2024-04-11T19:58:36.917668Z",
     "start_time": "2024-04-11T19:58:36.910313Z"
    }
   },
   "outputs": [],
   "source": [
    "m1 = nn.Value(np.arange(12).reshape((3,4)))\n",
    "m2 = nn.Value(np.arange(12,24).reshape((3,4)))\n",
    "m3 = nn.Value(np.arange(24,36).reshape((3,4)))\n",
    "m4 = nn.Value(np.arange(36,48).reshape((3,4)))\n",
    "\n",
    "v1 = nn.Value(np.arange(3).reshape((3,)))\n",
    "v2 = nn.Value(np.arange(3,6).reshape((3,)))\n",
    "v3 = nn.Value(np.arange(6,9).reshape((3,)))\n",
    "v4 = nn.Value(np.arange(4).reshape((4,)))"
   ]
  },
  {
   "cell_type": "code",
   "execution_count": 31,
   "metadata": {
    "ExecuteTime": {
     "end_time": "2024-04-11T19:58:38.375051Z",
     "start_time": "2024-04-11T19:58:38.360486Z"
    }
   },
   "outputs": [
    {
     "name": "stdout",
     "output_type": "stream",
     "text": [
      "Passed Test on VDot\n"
     ]
    }
   ],
   "source": [
    "#Test VDot\n",
    "x = nn.Mul(m1, m2)\n",
    "y = nn.VDot(v1, x)\n",
    "z = nn.Mul(y, v4)\n",
    "x.forward()\n",
    "y.forward()\n",
    "z.forward()\n",
    "z.grad = np.ones_like(z.value)\n",
    "y.grad = 0\n",
    "x.grad = 0\n",
    "v1.grad = 0\n",
    "z.backward()\n",
    "y.backward()\n",
    "x.backward()\n",
    "\n",
    "yvalue = np.array([384., 463., 548., 639.])\n",
    "ygrad = np.array([0., 1., 2., 3.])\n",
    "yagrad = np.array([ 204.,  700., 1388.])\n",
    "ybgrad = np.array([[0., 0., 0., 0.],\n",
    "                   [0., 1., 2., 3.],\n",
    "                   [0., 2., 4., 6.]])\n",
    "\n",
    "if not np.array_equal(y.value, yvalue):\n",
    "    raise FailTestError(\"y.value not equal to matrix product of x.value and v1.value\")\n",
    "if not np.array_equal(y.grad, ygrad):\n",
    "    raise FailTestError(\"gradient of y is incorrect\")\n",
    "if not np.array_equal(y.a.grad, yagrad):\n",
    "    raise FailTestError(\"gradient of a in y is incorrect\")\n",
    "if not np.array_equal(y.b.grad, ybgrad):\n",
    "    raise FailTestError(\"gradient of b in y is incorrect\")\n",
    "print(\"Passed Test on VDot\")"
   ]
  },
  {
   "cell_type": "code",
   "execution_count": 32,
   "metadata": {
    "ExecuteTime": {
     "end_time": "2024-04-11T19:58:39.070148Z",
     "start_time": "2024-04-11T19:58:39.058942Z"
    },
    "pycharm": {}
   },
   "outputs": [
    {
     "name": "stdout",
     "output_type": "stream",
     "text": [
      "Passed Test on Sigmoid\n"
     ]
    }
   ],
   "source": [
    "# Test Sigmoid\n",
    "x = nn.Add(v1, v2)\n",
    "y = nn.Sigmoid(x)\n",
    "z = nn.Mul(y, v3)\n",
    "x.forward()\n",
    "y.forward()\n",
    "z.forward()\n",
    "z.grad = np.ones_like(z.value)\n",
    "y.grad = 0\n",
    "x.grad = 0\n",
    "z.backward()\n",
    "y.backward()\n",
    "x.backward()\n",
    "\n",
    "yvalue = np.array([0.95257413, 0.9933072 , 0.999089], dtype=np.float32)\n",
    "yagrad = np.array([0.2710599 , 0.04653623, 0.00728134], dtype=np.float32)\n",
    "\n",
    "if not np.array_equal(np.round(y.value, 5), np.round(yvalue, 5)):\n",
    "    raise FailTestError(\"y.value not equal to sigmoid of x\")\n",
    "if not np.array_equal(np.round(y.a.grad, 5), np.round(yagrad, 5)):\n",
    "    raise FailTestError(\"gradient of a in y is incorrect\")\n",
    "print(\"Passed Test on Sigmoid\")"
   ]
  },
  {
   "cell_type": "code",
   "execution_count": 33,
   "metadata": {
    "ExecuteTime": {
     "end_time": "2024-04-11T19:58:39.772157Z",
     "start_time": "2024-04-11T19:58:39.742278Z"
    },
    "pycharm": {}
   },
   "outputs": [
    {
     "name": "stdout",
     "output_type": "stream",
     "text": [
      "Passed Test on RELU\n"
     ]
    }
   ],
   "source": [
    "# Test RELU\n",
    "x = nn.Add(v1, v2)\n",
    "y = nn.RELU(x)\n",
    "z = nn.Mul(y, v3)\n",
    "x.forward()\n",
    "y.forward()\n",
    "z.forward()\n",
    "z.grad = np.ones_like(z.value)\n",
    "y.grad = 0\n",
    "x.grad = 0\n",
    "z.backward()\n",
    "y.backward()\n",
    "x.backward()\n",
    "\n",
    "yvalue = np.array([3., 5., 7.], dtype=np.float32)\n",
    "yagrad = np.array([6., 7., 8.], dtype=np.float32)\n",
    "\n",
    "if not np.array_equal(np.round(y.value, 5), np.round(yvalue, 5)):\n",
    "    raise FailTestError(\"y.value not equal to Relu of x\")\n",
    "if not np.array_equal(np.round(y.a.grad, 5), np.round(yagrad, 5)):\n",
    "    raise FailTestError(\"gradient of a in y is incorrect\")\n",
    "print(\"Passed Test on RELU\")"
   ]
  },
  {
   "cell_type": "code",
   "execution_count": 34,
   "metadata": {
    "ExecuteTime": {
     "end_time": "2024-04-11T19:58:40.492918Z",
     "start_time": "2024-04-11T19:58:40.480132Z"
    },
    "pycharm": {}
   },
   "outputs": [
    {
     "name": "stdout",
     "output_type": "stream",
     "text": [
      "Passed Test on SoftMax\n"
     ]
    }
   ],
   "source": [
    "# Test SoftMax\n",
    "x = nn.Add(v1, v2)\n",
    "y = nn.SoftMax(x)\n",
    "z = nn.Mul(y, v3)\n",
    "x.forward()\n",
    "y.forward()\n",
    "z.forward()\n",
    "z.grad = np.ones_like(z.value)\n",
    "y.grad = 0\n",
    "x.grad = 0\n",
    "z.backward()\n",
    "y.backward()\n",
    "x.backward()\n",
    "\n",
    "yvalue = np.array([0.01587624, 0.11731043, 0.86681336], dtype=np.float32)\n",
    "yagrad = np.array([-0.02938593, -0.09982383,  0.12920949], dtype=np.float32)\n",
    "\n",
    "if not np.array_equal(np.round(y.value, 5), np.round(yvalue, 5)):\n",
    "    raise FailTestError(\"y.value not equal to SoftMax of x\")\n",
    "if not np.array_equal(np.round(y.a.grad, 5), np.round(yagrad, 5)):\n",
    "    raise FailTestError(\"gradient of a in y is incorrect\")\n",
    "print(\"Passed Test on SoftMax\")"
   ]
  },
  {
   "cell_type": "code",
   "execution_count": 35,
   "metadata": {
    "ExecuteTime": {
     "end_time": "2024-04-11T19:58:41.555360Z",
     "start_time": "2024-04-11T19:58:41.537735Z"
    },
    "pycharm": {}
   },
   "outputs": [
    {
     "name": "stdout",
     "output_type": "stream",
     "text": [
      "Passed Test on Log\n"
     ]
    }
   ],
   "source": [
    "# Test Log\n",
    "x = nn.Add(v1, v2)\n",
    "y = nn.Log(x)\n",
    "z = nn.Mul(y, v3)\n",
    "x.forward()\n",
    "y.forward()\n",
    "z.forward()\n",
    "z.grad = np.ones_like(z.value)\n",
    "y.grad = 0\n",
    "x.grad = 0\n",
    "z.backward()\n",
    "y.backward()\n",
    "x.backward()\n",
    "\n",
    "yvalue = np.array([1.0986123, 1.609438 , 1.9459102], dtype=np.float32)\n",
    "yagrad = np.array([2.       , 1.4      , 1.1428572], dtype=np.float32)\n",
    "\n",
    "if not np.array_equal(np.round(y.value, 5), np.round(yvalue, 5)):\n",
    "    raise FailTestError(\"y.value not equal to log of x\")\n",
    "if not np.array_equal(np.round(y.a.grad, 5), np.round(yagrad, 5)):\n",
    "    raise FailTestError(\"gradient of a in y is incorrect\")\n",
    "print(\"Passed Test on Log\")"
   ]
  },
  {
   "cell_type": "markdown",
   "metadata": {
    "pycharm": {}
   },
   "source": [
    "## Applying to the MNIST dataset"
   ]
  },
  {
   "cell_type": "code",
   "execution_count": 36,
   "metadata": {
    "ExecuteTime": {
     "end_time": "2024-04-11T19:58:44.275688Z",
     "start_time": "2024-04-11T19:58:43.367248Z"
    },
    "pycharm": {}
   },
   "outputs": [],
   "source": [
    "data = pd.read_csv(\"./mnist_data/train.csv\")\n",
    "train_data = data.iloc[:30000]  # 30000\n",
    "test_data = data.iloc[30000:]  # 12000\n",
    "\n",
    "pixel_columns = [f\"pixel{i}\" for i in range(784)]\n",
    "\n",
    "# normalize by dividing by 255 as the pixel ranges from 0 to 255\n",
    "train_x = train_data[pixel_columns].values.astype(nn.DT)/255\n",
    "train_y = train_data[\"label\"].values.astype(nn.DT)\n",
    "\n",
    "test_x = test_data[pixel_columns].values.astype(nn.DT)/255\n",
    "test_y = test_data[\"label\"].values.astype(nn.DT)"
   ]
  },
  {
   "cell_type": "markdown",
   "metadata": {
    "pycharm": {}
   },
   "source": [
    "### Debugging the fit function"
   ]
  },
  {
   "cell_type": "code",
   "execution_count": 37,
   "metadata": {
    "ExecuteTime": {
     "end_time": "2024-04-11T19:58:46.030509Z",
     "start_time": "2024-04-11T19:58:45.967537Z"
    },
    "pycharm": {}
   },
   "outputs": [
    {
     "name": "stdout",
     "output_type": "stream",
     "text": [
      "Append <VDot> to the computational graph\n",
      "Append <Add> to the computational graph\n",
      "Append <Sigmoid> to the computational graph\n",
      "Append <VDot> to the computational graph\n",
      "Append <Add> to the computational graph\n",
      "Append <SoftMax> to the computational graph\n",
      "Append <Aref> to the computational graph\n",
      "Append <Log> to the computational graph\n",
      "Append <Mul> to the computational graph\n",
      "Append <Accuracy> to the computational graph\n"
     ]
    },
    {
     "data": {
      "application/vnd.jupyter.widget-view+json": {
       "model_id": "9f5a9874e4f041449b96926b9ea74acc",
       "version_major": 2,
       "version_minor": 0
      },
      "text/plain": [
       "  0%|          | 0/2 [00:00<?, ?it/s]"
      ]
     },
     "metadata": {},
     "output_type": "display_data"
    },
    {
     "name": "stdout",
     "output_type": "stream",
     "text": [
      "Epoch 0: train loss = 2.4059, accy = 0.5000, [0.005 secs]\n"
     ]
    }
   ],
   "source": [
    "nodes_array = [784, 128, 10]\n",
    "model = nn.NN(nodes_array, \"sigmoid\")\n",
    "\n",
    "# Provided sample weights for initialization\n",
    "with open(\"./mnist_data/sample_weights.pkl\", 'rb') as f:\n",
    "    weights = pickle.load(f)\n",
    "model.set_weights(weights)\n",
    "\n",
    "X = train_x[:2]\n",
    "y = train_y[:2]\n",
    "\n",
    "model.fit(X, y, alpha=0.01, t=1)\n",
    "\n",
    "# Load the sample gradient for debugging\n",
    "with open(\"./mnist_data/sample_gradient.pkl\", 'rb') as f:\n",
    "    sample_grad = pickle.load(f)\n",
    "\n",
    "# first layer's weight of shape (784, 128)\n",
    "if not np.allclose(model.params[\"weight0\"].grad, sample_grad[\"w1\"]):\n",
    "    print(\"should be\", sample_grad[\"w1\"])\n",
    "    print(\"but is\", model.params[\"weight0\"].grad)\n",
    "    raise FailTestError(\"gradient of the first layer's weight is incorrect\")\n",
    "# first layer's bias of shape (128, )\n",
    "if not np.allclose(model.params[\"bias0\"].grad, sample_grad[\"b1\"]):\n",
    "    raise FailTestError(\"gradient of the first layer's bias is incorrect\")\n",
    "# second layer's weight of shape (128, 10)\n",
    "if not np.allclose(model.params[\"weight1\"].grad, sample_grad[\"w2\"]):\n",
    "    raise FailTestError(\"gradient of the second layer's weight is incorrect\")\n",
    "# second layer's bias of shape (10, )\n",
    "if not np.allclose(model.params[\"bias1\"].grad, sample_grad[\"b2\"]):\n",
    "    raise FailTestError(\"gradient of the second layer's bias is incorrect\")"
   ]
  },
  {
   "cell_type": "markdown",
   "metadata": {
    "pycharm": {}
   },
   "source": [
    "### Training the NN on the whole training dataset"
   ]
  },
  {
   "cell_type": "code",
   "execution_count": 38,
   "metadata": {
    "ExecuteTime": {
     "end_time": "2024-04-08T10:55:58.888757Z",
     "start_time": "2024-04-08T10:53:49.949600Z"
    },
    "pycharm": {},
    "scrolled": false
   },
   "outputs": [
    {
     "name": "stdout",
     "output_type": "stream",
     "text": [
      "Append <VDot> to the computational graph\n",
      "Append <Add> to the computational graph\n",
      "Append <Sigmoid> to the computational graph\n",
      "Append <VDot> to the computational graph\n",
      "Append <Add> to the computational graph\n",
      "Append <SoftMax> to the computational graph\n",
      "Append <Aref> to the computational graph\n",
      "Append <Log> to the computational graph\n",
      "Append <Mul> to the computational graph\n",
      "Append <Accuracy> to the computational graph\n"
     ]
    },
    {
     "data": {
      "application/vnd.jupyter.widget-view+json": {
       "model_id": "731d062b0ca445a7a9491c1e734f579c",
       "version_major": 2,
       "version_minor": 0
      },
      "text/plain": [
       "  0%|          | 0/30000 [00:00<?, ?it/s]"
      ]
     },
     "metadata": {},
     "output_type": "display_data"
    },
    {
     "name": "stdout",
     "output_type": "stream",
     "text": [
      "Epoch 0: train loss = 0.3189, accy = 0.9083, [19.296 secs]\n"
     ]
    },
    {
     "data": {
      "application/vnd.jupyter.widget-view+json": {
       "model_id": "f970bcc082674aba991b5a38880eae40",
       "version_major": 2,
       "version_minor": 0
      },
      "text/plain": [
       "  0%|          | 0/30000 [00:00<?, ?it/s]"
      ]
     },
     "metadata": {},
     "output_type": "display_data"
    },
    {
     "name": "stdout",
     "output_type": "stream",
     "text": [
      "Epoch 1: train loss = 0.2463, accy = 0.9283, [18.707 secs]\n"
     ]
    },
    {
     "data": {
      "application/vnd.jupyter.widget-view+json": {
       "model_id": "b4e78946603647a79b2f8fa28d11630e",
       "version_major": 2,
       "version_minor": 0
      },
      "text/plain": [
       "  0%|          | 0/30000 [00:00<?, ?it/s]"
      ]
     },
     "metadata": {},
     "output_type": "display_data"
    },
    {
     "name": "stdout",
     "output_type": "stream",
     "text": [
      "Epoch 2: train loss = 0.1979, accy = 0.9428, [18.125 secs]\n"
     ]
    },
    {
     "data": {
      "application/vnd.jupyter.widget-view+json": {
       "model_id": "ce6355a5775941d7a84b26abbd4832a3",
       "version_major": 2,
       "version_minor": 0
      },
      "text/plain": [
       "  0%|          | 0/30000 [00:00<?, ?it/s]"
      ]
     },
     "metadata": {},
     "output_type": "display_data"
    },
    {
     "name": "stdout",
     "output_type": "stream",
     "text": [
      "Epoch 3: train loss = 0.1633, accy = 0.9531, [19.957 secs]\n"
     ]
    },
    {
     "data": {
      "application/vnd.jupyter.widget-view+json": {
       "model_id": "87c5a754fb644fbea745f792edb93d0d",
       "version_major": 2,
       "version_minor": 0
      },
      "text/plain": [
       "  0%|          | 0/30000 [00:00<?, ?it/s]"
      ]
     },
     "metadata": {},
     "output_type": "display_data"
    },
    {
     "name": "stdout",
     "output_type": "stream",
     "text": [
      "Epoch 4: train loss = 0.1381, accy = 0.9609, [19.679 secs]\n"
     ]
    },
    {
     "data": {
      "application/vnd.jupyter.widget-view+json": {
       "model_id": "1ebe1e06bd6e45ec89c8b81286359ff3",
       "version_major": 2,
       "version_minor": 0
      },
      "text/plain": [
       "  0%|          | 0/30000 [00:00<?, ?it/s]"
      ]
     },
     "metadata": {},
     "output_type": "display_data"
    },
    {
     "name": "stdout",
     "output_type": "stream",
     "text": [
      "Epoch 5: train loss = 0.1191, accy = 0.9658, [19.608 secs]\n"
     ]
    },
    {
     "data": {
      "application/vnd.jupyter.widget-view+json": {
       "model_id": "e45ea53f0364464585065ee13c75f058",
       "version_major": 2,
       "version_minor": 0
      },
      "text/plain": [
       "  0%|          | 0/30000 [00:00<?, ?it/s]"
      ]
     },
     "metadata": {},
     "output_type": "display_data"
    },
    {
     "name": "stdout",
     "output_type": "stream",
     "text": [
      "Epoch 6: train loss = 0.1042, accy = 0.9700, [20.241 secs]\n"
     ]
    },
    {
     "data": {
      "application/vnd.jupyter.widget-view+json": {
       "model_id": "2eb19ae4ada44d788f39add9fd567e88",
       "version_major": 2,
       "version_minor": 0
      },
      "text/plain": [
       "  0%|          | 0/30000 [00:00<?, ?it/s]"
      ]
     },
     "metadata": {},
     "output_type": "display_data"
    },
    {
     "name": "stdout",
     "output_type": "stream",
     "text": [
      "Epoch 7: train loss = 0.0922, accy = 0.9739, [20.543 secs]\n"
     ]
    },
    {
     "data": {
      "application/vnd.jupyter.widget-view+json": {
       "model_id": "e7d0c742353a4e1d82373ca5c34699be",
       "version_major": 2,
       "version_minor": 0
      },
      "text/plain": [
       "  0%|          | 0/30000 [00:00<?, ?it/s]"
      ]
     },
     "metadata": {},
     "output_type": "display_data"
    },
    {
     "name": "stdout",
     "output_type": "stream",
     "text": [
      "Epoch 8: train loss = 0.0821, accy = 0.9771, [19.750 secs]\n"
     ]
    },
    {
     "data": {
      "application/vnd.jupyter.widget-view+json": {
       "model_id": "b31881b16fd74113842e5cab35eb03b7",
       "version_major": 2,
       "version_minor": 0
      },
      "text/plain": [
       "  0%|          | 0/30000 [00:00<?, ?it/s]"
      ]
     },
     "metadata": {},
     "output_type": "display_data"
    },
    {
     "name": "stdout",
     "output_type": "stream",
     "text": [
      "Epoch 9: train loss = 0.0735, accy = 0.9799, [21.376 secs]\n"
     ]
    },
    {
     "data": {
      "image/png": "[encoded data removed]",
      "text/plain": [
       "<Figure size 640x480 with 1 Axes>"
      ]
     },
     "metadata": {},
     "output_type": "display_data"
    },
    {
     "data": {
      "image/png": "[encoded data removed]",
      "text/plain": [
       "<Figure size 640x480 with 1 Axes>"
      ]
     },
     "metadata": {},
     "output_type": "display_data"
    }
   ],
   "source": [
    "# 2-layer NN with 1 hidden layer\n",
    "nodes_array = [784, 128, 10]\n",
    "model = nn.NN(nodes_array, \"sigmoid\")\n",
    "model.init_weights_with_xavier()\n",
    "model.fit_plot(train_x, train_y, 0.01, 10)"
   ]
  },
  {
   "cell_type": "code",
   "execution_count": 39,
   "metadata": {
    "pycharm": {}
   },
   "outputs": [
    {
     "name": "stdout",
     "output_type": "stream",
     "text": [
      "Test accuracy = 0.9643, loss = 0.1173\n"
     ]
    }
   ],
   "source": [
    "accy, loss = model.eval(test_x, test_y)\n",
    "print(\"Test accuracy = %.4f, loss = %.4f\" % (accy, loss))"
   ]
  },
  {
   "cell_type": "code",
   "execution_count": 40,
   "metadata": {},
   "outputs": [
    {
     "name": "stdout",
     "output_type": "stream",
     "text": [
      "Append <VDot> to the computational graph\n",
      "Append <Add> to the computational graph\n",
      "Append <Sigmoid> to the computational graph\n",
      "Append <VDot> to the computational graph\n",
      "Append <Add> to the computational graph\n",
      "Append <Sigmoid> to the computational graph\n",
      "Append <VDot> to the computational graph\n",
      "Append <Add> to the computational graph\n",
      "Append <SoftMax> to the computational graph\n",
      "Append <Aref> to the computational graph\n",
      "Append <Log> to the computational graph\n",
      "Append <Mul> to the computational graph\n",
      "Append <Accuracy> to the computational graph\n"
     ]
    },
    {
     "data": {
      "application/vnd.jupyter.widget-view+json": {
       "model_id": "b6f192a322084c5bb0545c816690b63d",
       "version_major": 2,
       "version_minor": 0
      },
      "text/plain": [
       "  0%|          | 0/30000 [00:00<?, ?it/s]"
      ]
     },
     "metadata": {},
     "output_type": "display_data"
    },
    {
     "name": "stdout",
     "output_type": "stream",
     "text": [
      "Epoch 0: train loss = 0.3690, accy = 0.8926, [22.774 secs]\n"
     ]
    },
    {
     "data": {
      "application/vnd.jupyter.widget-view+json": {
       "model_id": "becbd2750a75423f9d31e9669026f357",
       "version_major": 2,
       "version_minor": 0
      },
      "text/plain": [
       "  0%|          | 0/30000 [00:00<?, ?it/s]"
      ]
     },
     "metadata": {},
     "output_type": "display_data"
    },
    {
     "name": "stdout",
     "output_type": "stream",
     "text": [
      "Epoch 1: train loss = 0.2793, accy = 0.9178, [23.729 secs]\n"
     ]
    },
    {
     "data": {
      "application/vnd.jupyter.widget-view+json": {
       "model_id": "576c14a51bf648e28bb8456f7a13f4a7",
       "version_major": 2,
       "version_minor": 0
      },
      "text/plain": [
       "  0%|          | 0/30000 [00:00<?, ?it/s]"
      ]
     },
     "metadata": {},
     "output_type": "display_data"
    },
    {
     "name": "stdout",
     "output_type": "stream",
     "text": [
      "Epoch 2: train loss = 0.2203, accy = 0.9348, [23.480 secs]\n"
     ]
    },
    {
     "data": {
      "application/vnd.jupyter.widget-view+json": {
       "model_id": "55120493319b4d3ba85f66075a7c2950",
       "version_major": 2,
       "version_minor": 0
      },
      "text/plain": [
       "  0%|          | 0/30000 [00:00<?, ?it/s]"
      ]
     },
     "metadata": {},
     "output_type": "display_data"
    },
    {
     "name": "stdout",
     "output_type": "stream",
     "text": [
      "Epoch 3: train loss = 0.1807, accy = 0.9459, [23.584 secs]\n"
     ]
    },
    {
     "data": {
      "application/vnd.jupyter.widget-view+json": {
       "model_id": "432c070c43e94dbb9f82edb7cb15f17f",
       "version_major": 2,
       "version_minor": 0
      },
      "text/plain": [
       "  0%|          | 0/30000 [00:00<?, ?it/s]"
      ]
     },
     "metadata": {},
     "output_type": "display_data"
    },
    {
     "name": "stdout",
     "output_type": "stream",
     "text": [
      "Epoch 4: train loss = 0.1513, accy = 0.9545, [22.940 secs]\n"
     ]
    },
    {
     "data": {
      "application/vnd.jupyter.widget-view+json": {
       "model_id": "5200a046dcbd4438b528a7a8301b5d1f",
       "version_major": 2,
       "version_minor": 0
      },
      "text/plain": [
       "  0%|          | 0/30000 [00:00<?, ?it/s]"
      ]
     },
     "metadata": {},
     "output_type": "display_data"
    },
    {
     "name": "stdout",
     "output_type": "stream",
     "text": [
      "Epoch 5: train loss = 0.1287, accy = 0.9616, [23.417 secs]\n"
     ]
    },
    {
     "data": {
      "application/vnd.jupyter.widget-view+json": {
       "model_id": "4667ad0fc7bb46588482d642cfea92ba",
       "version_major": 2,
       "version_minor": 0
      },
      "text/plain": [
       "  0%|          | 0/30000 [00:00<?, ?it/s]"
      ]
     },
     "metadata": {},
     "output_type": "display_data"
    },
    {
     "name": "stdout",
     "output_type": "stream",
     "text": [
      "Epoch 6: train loss = 0.1103, accy = 0.9670, [23.099 secs]\n"
     ]
    },
    {
     "data": {
      "application/vnd.jupyter.widget-view+json": {
       "model_id": "9ead1e8f64f54d18b4f537290fc3361a",
       "version_major": 2,
       "version_minor": 0
      },
      "text/plain": [
       "  0%|          | 0/30000 [00:00<?, ?it/s]"
      ]
     },
     "metadata": {},
     "output_type": "display_data"
    },
    {
     "name": "stdout",
     "output_type": "stream",
     "text": [
      "Epoch 7: train loss = 0.0944, accy = 0.9722, [24.022 secs]\n"
     ]
    },
    {
     "data": {
      "application/vnd.jupyter.widget-view+json": {
       "model_id": "1fd3b29d75dd4308a9bcdeacf7fd5750",
       "version_major": 2,
       "version_minor": 0
      },
      "text/plain": [
       "  0%|          | 0/30000 [00:00<?, ?it/s]"
      ]
     },
     "metadata": {},
     "output_type": "display_data"
    },
    {
     "name": "stdout",
     "output_type": "stream",
     "text": [
      "Epoch 8: train loss = 0.0807, accy = 0.9763, [23.925 secs]\n"
     ]
    },
    {
     "data": {
      "application/vnd.jupyter.widget-view+json": {
       "model_id": "f1a027600ce34ba395bd1e3650452798",
       "version_major": 2,
       "version_minor": 0
      },
      "text/plain": [
       "  0%|          | 0/30000 [00:00<?, ?it/s]"
      ]
     },
     "metadata": {},
     "output_type": "display_data"
    },
    {
     "name": "stdout",
     "output_type": "stream",
     "text": [
      "Epoch 9: train loss = 0.0690, accy = 0.9798, [23.697 secs]\n"
     ]
    },
    {
     "data": {
      "image/png": "[encoded data removed]",
      "text/plain": [
       "<Figure size 640x480 with 1 Axes>"
      ]
     },
     "metadata": {},
     "output_type": "display_data"
    },
    {
     "data": {
      "image/png": "[encoded data removed]",
      "text/plain": [
       "<Figure size 640x480 with 1 Axes>"
      ]
     },
     "metadata": {},
     "output_type": "display_data"
    }
   ],
   "source": [
    "# 3-layer NN with 2 hidden layers\n",
    "nodes_array = [784, 128, 64, 10]\n",
    "model = nn.NN(nodes_array, \"sigmoid\")\n",
    "model.init_weights_with_xavier()\n",
    "model.fit_plot(train_x, train_y, 0.01, 10)"
   ]
  },
  {
   "cell_type": "code",
   "execution_count": 41,
   "metadata": {},
   "outputs": [
    {
     "name": "stdout",
     "output_type": "stream",
     "text": [
      "Test accuracy = 0.9628, loss = 0.1207\n"
     ]
    }
   ],
   "source": [
    "accy, loss = model.eval(test_x, test_y)\n",
    "print(\"Test accuracy = %.4f, loss = %.4f\" % (accy, loss))"
   ]
  },
  {
   "cell_type": "code",
   "execution_count": 42,
   "metadata": {},
   "outputs": [
    {
     "name": "stdout",
     "output_type": "stream",
     "text": [
      "Append <VDot> to the computational graph\n",
      "Append <Add> to the computational graph\n",
      "Append <RELU> to the computational graph\n",
      "Append <VDot> to the computational graph\n",
      "Append <Add> to the computational graph\n",
      "Append <SoftMax> to the computational graph\n",
      "Append <Aref> to the computational graph\n",
      "Append <Log> to the computational graph\n",
      "Append <Mul> to the computational graph\n",
      "Append <Accuracy> to the computational graph\n"
     ]
    },
    {
     "data": {
      "application/vnd.jupyter.widget-view+json": {
       "model_id": "8f3818d4ae5d43679cf3d38c25598036",
       "version_major": 2,
       "version_minor": 0
      },
      "text/plain": [
       "  0%|          | 0/30000 [00:00<?, ?it/s]"
      ]
     },
     "metadata": {},
     "output_type": "display_data"
    },
    {
     "name": "stdout",
     "output_type": "stream",
     "text": [
      "Epoch 0: train loss = 0.1670, accy = 0.9473, [26.557 secs]\n"
     ]
    },
    {
     "data": {
      "application/vnd.jupyter.widget-view+json": {
       "model_id": "25d6ae94d4c44185a3c74ed57cf06b96",
       "version_major": 2,
       "version_minor": 0
      },
      "text/plain": [
       "  0%|          | 0/30000 [00:00<?, ?it/s]"
      ]
     },
     "metadata": {},
     "output_type": "display_data"
    },
    {
     "name": "stdout",
     "output_type": "stream",
     "text": [
      "Epoch 1: train loss = 0.1008, accy = 0.9678, [25.232 secs]\n"
     ]
    },
    {
     "data": {
      "application/vnd.jupyter.widget-view+json": {
       "model_id": "74b79ac19b0e42eb8a8119803d7f09bf",
       "version_major": 2,
       "version_minor": 0
      },
      "text/plain": [
       "  0%|          | 0/30000 [00:00<?, ?it/s]"
      ]
     },
     "metadata": {},
     "output_type": "display_data"
    },
    {
     "name": "stdout",
     "output_type": "stream",
     "text": [
      "Epoch 2: train loss = 0.0676, accy = 0.9792, [25.417 secs]\n"
     ]
    },
    {
     "data": {
      "application/vnd.jupyter.widget-view+json": {
       "model_id": "f89befd740d54580b4a72f1df8384046",
       "version_major": 2,
       "version_minor": 0
      },
      "text/plain": [
       "  0%|          | 0/30000 [00:00<?, ?it/s]"
      ]
     },
     "metadata": {},
     "output_type": "display_data"
    },
    {
     "name": "stdout",
     "output_type": "stream",
     "text": [
      "Epoch 3: train loss = 0.0467, accy = 0.9858, [25.895 secs]\n"
     ]
    },
    {
     "data": {
      "application/vnd.jupyter.widget-view+json": {
       "model_id": "4bdda7c56af2455d8fc9620308cc1fc1",
       "version_major": 2,
       "version_minor": 0
      },
      "text/plain": [
       "  0%|          | 0/30000 [00:00<?, ?it/s]"
      ]
     },
     "metadata": {},
     "output_type": "display_data"
    },
    {
     "name": "stdout",
     "output_type": "stream",
     "text": [
      "Epoch 4: train loss = 0.0343, accy = 0.9896, [25.463 secs]\n"
     ]
    },
    {
     "data": {
      "application/vnd.jupyter.widget-view+json": {
       "model_id": "3019f1cab8ba4220b1121a5cf7997c2e",
       "version_major": 2,
       "version_minor": 0
      },
      "text/plain": [
       "  0%|          | 0/30000 [00:00<?, ?it/s]"
      ]
     },
     "metadata": {},
     "output_type": "display_data"
    },
    {
     "name": "stdout",
     "output_type": "stream",
     "text": [
      "Epoch 5: train loss = 0.0234, accy = 0.9932, [25.801 secs]\n"
     ]
    },
    {
     "data": {
      "application/vnd.jupyter.widget-view+json": {
       "model_id": "d78ea6f584cc473e81c4fb1fcc2d157d",
       "version_major": 2,
       "version_minor": 0
      },
      "text/plain": [
       "  0%|          | 0/30000 [00:00<?, ?it/s]"
      ]
     },
     "metadata": {},
     "output_type": "display_data"
    },
    {
     "name": "stdout",
     "output_type": "stream",
     "text": [
      "Epoch 6: train loss = 0.0182, accy = 0.9950, [25.052 secs]\n"
     ]
    },
    {
     "data": {
      "application/vnd.jupyter.widget-view+json": {
       "model_id": "b996cb84d0164da9a576d71cef454280",
       "version_major": 2,
       "version_minor": 0
      },
      "text/plain": [
       "  0%|          | 0/30000 [00:00<?, ?it/s]"
      ]
     },
     "metadata": {},
     "output_type": "display_data"
    },
    {
     "name": "stdout",
     "output_type": "stream",
     "text": [
      "Epoch 7: train loss = 0.0148, accy = 0.9962, [25.049 secs]\n"
     ]
    },
    {
     "data": {
      "application/vnd.jupyter.widget-view+json": {
       "model_id": "202feb8151ac4db098a864d533737511",
       "version_major": 2,
       "version_minor": 0
      },
      "text/plain": [
       "  0%|          | 0/30000 [00:00<?, ?it/s]"
      ]
     },
     "metadata": {},
     "output_type": "display_data"
    },
    {
     "name": "stdout",
     "output_type": "stream",
     "text": [
      "Epoch 8: train loss = 0.0115, accy = 0.9977, [24.502 secs]\n"
     ]
    },
    {
     "data": {
      "application/vnd.jupyter.widget-view+json": {
       "model_id": "06132a37558849c49248b566b10c4530",
       "version_major": 2,
       "version_minor": 0
      },
      "text/plain": [
       "  0%|          | 0/30000 [00:00<?, ?it/s]"
      ]
     },
     "metadata": {},
     "output_type": "display_data"
    },
    {
     "name": "stdout",
     "output_type": "stream",
     "text": [
      "Epoch 9: train loss = 0.0089, accy = 0.9979, [24.648 secs]\n"
     ]
    },
    {
     "data": {
      "image/png": "[encoded data removed]",
      "text/plain": [
       "<Figure size 640x480 with 1 Axes>"
      ]
     },
     "metadata": {},
     "output_type": "display_data"
    },
    {
     "data": {
      "image/png": "[encoded data removed]",
      "text/plain": [
       "<Figure size 640x480 with 1 Axes>"
      ]
     },
     "metadata": {},
     "output_type": "display_data"
    }
   ],
   "source": [
    "# 2-layer NN with 1 hidden layer, ReLU activation function\n",
    "nodes_array = [784, 128, 10]\n",
    "model = nn.NN(nodes_array, \"relu\")\n",
    "model.init_weights_with_xavier()\n",
    "model.fit_plot(train_x, train_y, 0.01, 10)"
   ]
  },
  {
   "cell_type": "code",
   "execution_count": 43,
   "metadata": {},
   "outputs": [
    {
     "name": "stdout",
     "output_type": "stream",
     "text": [
      "Test accuracy = 0.9762, loss = 0.0991\n"
     ]
    }
   ],
   "source": [
    "accy, loss = model.eval(test_x, test_y)\n",
    "print(\"Test accuracy = %.4f, loss = %.4f\" % (accy, loss))"
   ]
  }
 ],
 "metadata": {
  "anaconda-cloud": {},
  "kernelspec": {
   "display_name": "Python 3 (ipykernel)",
   "language": "python",
   "name": "python3"
  },
  "language_info": {
   "codemirror_mode": {
    "name": "ipython",
    "version": 3
   },
   "file_extension": ".py",
   "mimetype": "text/x-python",
   "name": "python",
   "nbconvert_exporter": "python",
   "pygments_lexer": "ipython3",
   "version": "3.12.0"
  }
 },
 "nbformat": 4,
 "nbformat_minor": 2
}
